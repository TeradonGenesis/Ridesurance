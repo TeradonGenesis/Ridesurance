{
 "cells": [
  {
   "cell_type": "markdown",
   "id": "041e9e28",
   "metadata": {},
   "source": [
    "### Importing necessary libraries"
   ]
  },
  {
   "cell_type": "code",
   "execution_count": 8,
   "id": "298d48ec",
   "metadata": {},
   "outputs": [],
   "source": [
    "import snscrape.modules.twitter as sntwitter\n",
    "import pandas as pd\n",
    "import json"
   ]
  },
  {
   "cell_type": "markdown",
   "id": "24a24f8e",
   "metadata": {},
   "source": [
    "### Scraping Tweets from a profile"
   ]
  },
  {
   "cell_type": "code",
   "execution_count": null,
   "id": "9e98cad6",
   "metadata": {},
   "outputs": [],
   "source": [
    "user_tweets = [] # create a list and append the data into it\n",
    "\n",
    "# scraping 1000 tweets from a user (if available)\n",
    "for i,tweet in enumerate(sntwitter.TwitterSearchScraper('from:nightrider_kl').get_items()):\n",
    "    if i>1000:\n",
    "        break\n",
    "    user_tweets.append([tweet.date, tweet.id, tweet.content, tweet.user.username])\n",
    "\n",
    "tweets_df = pd.DataFrame(user_tweets, columns=['Datetime', 'Tweet Id', 'Text', 'Username']\n"
   ]
  },
  {
   "cell_type": "code",
   "execution_count": 16,
   "id": "de2cc303",
   "metadata": {},
   "outputs": [],
   "source": [
    "# creating an excel\n",
    "tweets_df['Datetime'] = tweets_df['Datetime'].dt.tz_localize(None)\n",
    "\n",
    "tweets_df.to_excel('user_tweets.xlsx',sheet_name='tweets',index=False) "
   ]
  },
  {
   "cell_type": "code",
   "execution_count": 9,
   "id": "f920be47",
   "metadata": {},
   "outputs": [
    {
     "data": {
      "text/plain": [
       "873"
      ]
     },
     "execution_count": 9,
     "metadata": {},
     "output_type": "execute_result"
    }
   ],
   "source": [
    "len(tweets_df.index) # to check the number of rows"
   ]
  },
  {
   "cell_type": "code",
   "execution_count": 11,
   "id": "0a17f394",
   "metadata": {},
   "outputs": [
    {
     "data": {
      "text/html": [
       "<div>\n",
       "<style scoped>\n",
       "    .dataframe tbody tr th:only-of-type {\n",
       "        vertical-align: middle;\n",
       "    }\n",
       "\n",
       "    .dataframe tbody tr th {\n",
       "        vertical-align: top;\n",
       "    }\n",
       "\n",
       "    .dataframe thead th {\n",
       "        text-align: right;\n",
       "    }\n",
       "</style>\n",
       "<table border=\"1\" class=\"dataframe\">\n",
       "  <thead>\n",
       "    <tr style=\"text-align: right;\">\n",
       "      <th></th>\n",
       "      <th>Datetime</th>\n",
       "      <th>Tweet Id</th>\n",
       "      <th>Text</th>\n",
       "      <th>Username</th>\n",
       "    </tr>\n",
       "  </thead>\n",
       "  <tbody>\n",
       "    <tr>\n",
       "      <th>0</th>\n",
       "      <td>2022-09-09 21:23:01+00:00</td>\n",
       "      <td>1568349280657879040</td>\n",
       "      <td>selepas terkena undang2x ngarut dari publika, ...</td>\n",
       "      <td>nightrider_kl</td>\n",
       "    </tr>\n",
       "    <tr>\n",
       "      <th>1</th>\n",
       "      <td>2022-09-05 01:12:34+00:00</td>\n",
       "      <td>1566595108643954696</td>\n",
       "      <td>wtf #publica #kl 🤷. what is your commonsense  ...</td>\n",
       "      <td>nightrider_kl</td>\n",
       "    </tr>\n",
       "    <tr>\n",
       "      <th>2</th>\n",
       "      <td>2022-08-26 02:24:06+00:00</td>\n",
       "      <td>1562989233417375746</td>\n",
       "      <td>vcn3882. are you moron? #pj #petalingjaya #jal...</td>\n",
       "      <td>nightrider_kl</td>\n",
       "    </tr>\n",
       "    <tr>\n",
       "      <th>3</th>\n",
       "      <td>2022-07-30 02:50:07+00:00</td>\n",
       "      <td>1553211306697986049</td>\n",
       "      <td>wow.. tak tahu plak kat bndr tasik selatan ade...</td>\n",
       "      <td>nightrider_kl</td>\n",
       "    </tr>\n",
       "    <tr>\n",
       "      <th>4</th>\n",
       "      <td>2022-07-29 04:29:56+00:00</td>\n",
       "      <td>1552874040645550081</td>\n",
       "      <td>gua rasa material nie mcm solid. pegang pun mc...</td>\n",
       "      <td>nightrider_kl</td>\n",
       "    </tr>\n",
       "    <tr>\n",
       "      <th>5</th>\n",
       "      <td>2022-07-29 02:57:27+00:00</td>\n",
       "      <td>1552850765617971200</td>\n",
       "      <td>lahh.. ayam thailand rupanya order makanan gra...</td>\n",
       "      <td>nightrider_kl</td>\n",
       "    </tr>\n",
       "    <tr>\n",
       "      <th>6</th>\n",
       "      <td>2022-07-27 08:44:12+00:00</td>\n",
       "      <td>1552213250162688000</td>\n",
       "      <td>geng, korang patot ambil peluang ini.\\n\\ni-sar...</td>\n",
       "      <td>nightrider_kl</td>\n",
       "    </tr>\n",
       "    <tr>\n",
       "      <th>7</th>\n",
       "      <td>2022-07-27 00:46:09+00:00</td>\n",
       "      <td>1552092946354167808</td>\n",
       "      <td>apa lagi geng. jom bayar saman https://t.co/Wy...</td>\n",
       "      <td>nightrider_kl</td>\n",
       "    </tr>\n",
       "    <tr>\n",
       "      <th>8</th>\n",
       "      <td>2022-07-26 06:32:03+00:00</td>\n",
       "      <td>1551817605253844992</td>\n",
       "      <td>malldash\\ntiap rider grab kena install apps ni...</td>\n",
       "      <td>nightrider_kl</td>\n",
       "    </tr>\n",
       "    <tr>\n",
       "      <th>9</th>\n",
       "      <td>2022-07-22 00:16:41+00:00</td>\n",
       "      <td>1550273591161528320</td>\n",
       "      <td>RCB Breakpad Ceramic https://t.co/ClTj1a3v3u</td>\n",
       "      <td>nightrider_kl</td>\n",
       "    </tr>\n",
       "  </tbody>\n",
       "</table>\n",
       "</div>"
      ],
      "text/plain": [
       "                   Datetime             Tweet Id  \\\n",
       "0 2022-09-09 21:23:01+00:00  1568349280657879040   \n",
       "1 2022-09-05 01:12:34+00:00  1566595108643954696   \n",
       "2 2022-08-26 02:24:06+00:00  1562989233417375746   \n",
       "3 2022-07-30 02:50:07+00:00  1553211306697986049   \n",
       "4 2022-07-29 04:29:56+00:00  1552874040645550081   \n",
       "5 2022-07-29 02:57:27+00:00  1552850765617971200   \n",
       "6 2022-07-27 08:44:12+00:00  1552213250162688000   \n",
       "7 2022-07-27 00:46:09+00:00  1552092946354167808   \n",
       "8 2022-07-26 06:32:03+00:00  1551817605253844992   \n",
       "9 2022-07-22 00:16:41+00:00  1550273591161528320   \n",
       "\n",
       "                                                Text       Username  \n",
       "0  selepas terkena undang2x ngarut dari publika, ...  nightrider_kl  \n",
       "1  wtf #publica #kl 🤷. what is your commonsense  ...  nightrider_kl  \n",
       "2  vcn3882. are you moron? #pj #petalingjaya #jal...  nightrider_kl  \n",
       "3  wow.. tak tahu plak kat bndr tasik selatan ade...  nightrider_kl  \n",
       "4  gua rasa material nie mcm solid. pegang pun mc...  nightrider_kl  \n",
       "5  lahh.. ayam thailand rupanya order makanan gra...  nightrider_kl  \n",
       "6  geng, korang patot ambil peluang ini.\\n\\ni-sar...  nightrider_kl  \n",
       "7  apa lagi geng. jom bayar saman https://t.co/Wy...  nightrider_kl  \n",
       "8  malldash\\ntiap rider grab kena install apps ni...  nightrider_kl  \n",
       "9       RCB Breakpad Ceramic https://t.co/ClTj1a3v3u  nightrider_kl  "
      ]
     },
     "execution_count": 11,
     "metadata": {},
     "output_type": "execute_result"
    }
   ],
   "source": [
    "tweets_df.head(10)"
   ]
  },
  {
   "cell_type": "code",
   "execution_count": null,
   "id": "8ad6edb5",
   "metadata": {},
   "outputs": [],
   "source": []
  }
 ],
 "metadata": {
  "kernelspec": {
   "display_name": "Python 3",
   "language": "python",
   "name": "python3"
  },
  "language_info": {
   "codemirror_mode": {
    "name": "ipython",
    "version": 3
   },
   "file_extension": ".py",
   "mimetype": "text/x-python",
   "name": "python",
   "nbconvert_exporter": "python",
   "pygments_lexer": "ipython3",
   "version": "3.8.8"
  }
 },
 "nbformat": 4,
 "nbformat_minor": 5
}

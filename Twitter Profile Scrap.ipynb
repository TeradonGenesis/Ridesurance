{
 "cells": [
  {
   "cell_type": "markdown",
   "id": "041e9e28",
   "metadata": {},
   "source": [
    "### Importing necessary libraries"
   ]
  },
  {
   "cell_type": "code",
   "execution_count": null,
   "id": "298d48ec",
   "metadata": {},
   "outputs": [],
   "source": [
    "import snscrape.modules.twitter as sntwitter\n",
    "import pandas as pd\n",
    "import json"
   ]
  },
  {
   "cell_type": "markdown",
   "id": "24a24f8e",
   "metadata": {},
   "source": [
    "### Scraping Tweets from a profile"
   ]
  },
  {
   "cell_type": "code",
   "execution_count": null,
   "id": "9e98cad6",
   "metadata": {},
   "outputs": [],
   "source": [
    "user_tweets = [] # create a list and append the data into it\n",
    "\n",
    "# scraping 1000 tweets from a user (if available)\n",
    "for i,tweet in enumerate(sntwitter.TwitterSearchScraper('from:User1').get_items()): #replace User1 with the twitter handle\n",
    "    if i>1000:\n",
    "        break\n",
    "    user_tweets.append([tweet.date, tweet.id, tweet.content, tweet.user.username]) #scrap the data on the date,id,content and username\n",
    "\n",
    "tweets_df = pd.DataFrame(user_tweets, columns=['Datetime', 'Tweet Id', 'Text', 'Username']) #categorize the data into specified columns"
   ]
  },
  {
   "cell_type": "code",
   "execution_count": null,
   "id": "bb97bb6c",
   "metadata": {},
   "outputs": [],
   "source": [
    "# creating an csv\n",
    "tweets_df['Datetime'] = tweets_df['Datetime'].dt.tz_localize(None)\n",
    "\n",
    "export_csv = tweets_df.to_csv(r'tweets.csv')"
   ]
  },
  {
   "cell_type": "code",
   "execution_count": null,
   "id": "de2cc303",
   "metadata": {},
   "outputs": [],
   "source": [
    "# creating an excel\n",
    "tweets_df['Datetime'] = tweets_df['Datetime'].dt.tz_localize(None)\n",
    "\n",
    "tweets_df.to_excel('user_tweets.xlsx',sheet_name='tweets',index=False) "
   ]
  },
  {
   "cell_type": "code",
   "execution_count": null,
   "id": "f920be47",
   "metadata": {},
   "outputs": [],
   "source": [
    "len(tweets_df.index) # to check the number of rows"
   ]
  },
  {
   "cell_type": "code",
   "execution_count": null,
   "id": "0a17f394",
   "metadata": {},
   "outputs": [],
   "source": [
    "tweets_df.head(10) #show output of 10 rows"
   ]
  }
 ],
 "metadata": {
  "kernelspec": {
   "display_name": "Python 3 (ipykernel)",
   "language": "python",
   "name": "python3"
  },
  "language_info": {
   "codemirror_mode": {
    "name": "ipython",
    "version": 3
   },
   "file_extension": ".py",
   "mimetype": "text/x-python",
   "name": "python",
   "nbconvert_exporter": "python",
   "pygments_lexer": "ipython3",
   "version": "3.9.12"
  }
 },
 "nbformat": 4,
 "nbformat_minor": 5
}

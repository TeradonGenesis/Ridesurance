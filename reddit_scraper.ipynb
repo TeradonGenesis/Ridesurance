{
 "cells": [
  {
   "cell_type": "code",
   "execution_count": 2,
   "id": "cbefae85",
   "metadata": {},
   "outputs": [],
   "source": [
    "import praw\n",
    "import pandas as pd\n",
    "import json"
   ]
  },
  {
   "cell_type": "code",
   "execution_count": 3,
   "id": "a7c0e624",
   "metadata": {},
   "outputs": [],
   "source": [
    "red = praw.Reddit(client_id=\"tioSmOyKnnL8SGhU2VqQDQ\",client_secret=\"2VMXL5DOwK9SUmNhabDuoolPZmKJyA\",user_agent=\"redditscraper by u/pupipo96\")"
   ]
  },
  {
   "cell_type": "code",
   "execution_count": 9,
   "id": "8185535d",
   "metadata": {},
   "outputs": [],
   "source": [
    "query = 'grab'\n",
    "sub = 'Malaysia'\n",
    "sort = \"top\"\n",
    "limit = 100"
   ]
  },
  {
   "cell_type": "code",
   "execution_count": 10,
   "id": "c093ca6b",
   "metadata": {},
   "outputs": [],
   "source": [
    "top_reddit_posts = red.subreddit(sub).search(query,sort=sort,limit=limit)\n",
    "total_reddit_posts = list()"
   ]
  },
  {
   "cell_type": "code",
   "execution_count": 11,
   "id": "97f81972",
   "metadata": {},
   "outputs": [],
   "source": [
    "for post in top_reddit_posts:\n",
    "    ID = post.id,\n",
    "    Title = post.title,\n",
    "    Body = post.selftext,\n",
    "    Score = post.score,\n",
    "    Number_of_Comments = post.num_comments,\n",
    "    Published_Date = post.created,\n",
    "    Link = post.permalink,\n",
    "    dataset = {\"ID\":ID[0],\"Title\":Title[0],\"Body\":Body[0],\"Score\":Score[0],\"Number_of_Comments\":Number_of_Comments[0],\"Published_Date\":Published_Date[0],\"Link\":'https://www.reddit.com'+Link[0]}\n",
    "    \n",
    "    total_reddit_posts.append(dataset)"
   ]
  },
  {
   "cell_type": "code",
   "execution_count": 14,
   "id": "c1748fcd",
   "metadata": {
    "scrolled": true
   },
   "outputs": [],
   "source": [
    "df = pd.DataFrame(total_reddit_posts)\n",
    "df.to_excel('data.xlsx',sheet_name='reddit_posts',index=False)"
   ]
  },
  {
   "cell_type": "code",
   "execution_count": 13,
   "id": "4de73041",
   "metadata": {},
   "outputs": [],
   "source": [
    "json_string = json.dumps(total_reddit_posts)\n",
    "jsonFile = open(\"data.json\", \"w\")\n",
    "jsonFile.write(json_string)\n",
    "jsonFile.close()"
   ]
  },
  {
   "cell_type": "code",
   "execution_count": null,
   "id": "06886d96",
   "metadata": {},
   "outputs": [],
   "source": []
  }
 ],
 "metadata": {
  "kernelspec": {
   "display_name": "Python 3 (ipykernel)",
   "language": "python",
   "name": "python3"
  },
  "language_info": {
   "codemirror_mode": {
    "name": "ipython",
    "version": 3
   },
   "file_extension": ".py",
   "mimetype": "text/x-python",
   "name": "python",
   "nbconvert_exporter": "python",
   "pygments_lexer": "ipython3",
   "version": "3.9.12"
  }
 },
 "nbformat": 4,
 "nbformat_minor": 5
}

{
 "cells": [
  {
   "cell_type": "markdown",
   "id": "041e9e28",
   "metadata": {},
   "source": [
    "### Importing Necessary Libraries"
   ]
  },
  {
   "cell_type": "code",
   "execution_count": null,
   "id": "298d48ec",
   "metadata": {},
   "outputs": [],
   "source": [
    "import snscrape.modules.twitter as sntwitter\n",
    "import pandas as pd\n",
    "import numpy as np\n",
    "import json\n",
    "from collections import Counter\n",
    "import matplotlib.pyplot as plt\n",
    "import re, string, unicodedata\n",
    "\n",
    "#important libraries for preprocessing using NLTK\n",
    "import nltk\n",
    "from nltk import word_tokenize, sent_tokenize, FreqDist\n",
    "from nltk.corpus import stopwords\n",
    "from nltk.stem import LancasterStemmer, WordNetLemmatizer\n",
    "from nltk.tokenize import TweetTokenizer\n",
    "import preprocessor as p"
   ]
  },
  {
   "cell_type": "markdown",
   "id": "24a24f8e",
   "metadata": {},
   "source": [
    "### Scraping Tweets from a Profile"
   ]
  },
  {
   "cell_type": "code",
   "execution_count": null,
   "id": "9e98cad6",
   "metadata": {},
   "outputs": [],
   "source": [
    "user_tweets = [] # create a list and append the data into it\n",
    "\n",
    "# scraping 1000 tweets from a user (if available)\n",
    "for i,tweet in enumerate(sntwitter.TwitterSearchScraper('from:User1').get_items()): #replace User1 with the twitter handle\n",
    "    if i>1000:\n",
    "        break\n",
    "    user_tweets.append([tweet.date, tweet.id, tweet.content, tweet.user.username]) #scrap the data on the date,id,content and username\n",
    "\n",
    "tweets_df = pd.DataFrame(user_tweets, columns=['Datetime', 'Tweet Id', 'Text', 'Username']) #categorize the data into specified columns"
   ]
  },
  {
   "cell_type": "code",
   "execution_count": null,
   "id": "f920be47",
   "metadata": {},
   "outputs": [],
   "source": [
    "len(tweets_df.index) # to check the number of rows"
   ]
  },
  {
   "cell_type": "code",
   "execution_count": null,
   "id": "bb97bb6c",
   "metadata": {},
   "outputs": [],
   "source": [
    "# creating an csv\n",
    "tweets_df['Datetime'] = tweets_df['Datetime'].dt.tz_localize(None)\n",
    "\n",
    "export_csv = tweets_df.to_csv(r'tweets.csv')"
   ]
  },
  {
   "cell_type": "code",
   "execution_count": null,
   "id": "de2cc303",
   "metadata": {},
   "outputs": [],
   "source": [
    "# creating an excel\n",
    "tweets_df['Datetime'] = tweets_df['Datetime'].dt.tz_localize(None)\n",
    "\n",
    "tweets_df.to_excel('user_tweets.xlsx',sheet_name='tweets',index=False) "
   ]
  },
  {
   "cell_type": "markdown",
   "id": "9535c89c",
   "metadata": {},
   "source": [
    "### Cleaning Tweets Text"
   ]
  },
  {
   "cell_type": "code",
   "execution_count": null,
   "id": "0a17f394",
   "metadata": {},
   "outputs": [],
   "source": [
    "##read the csv and define it\n",
    "pd.set_option('display.max_colwidth', None)\n",
    "data = pd.read_csv('tweets.csv')\n",
    "data.to_csv(r'new_text.csv', index = False)\n",
    "new_sample = pd.read_csv('new_text.csv')\n",
    "new_sample.head()\n",
    "tweets = new_sample[['Datetime', 'Tweet Id', 'Text', 'Username']]\n",
    "tweets.head()"
   ]
  },
  {
   "cell_type": "code",
   "execution_count": null,
   "id": "6d95decc",
   "metadata": {},
   "outputs": [],
   "source": [
    "##hashtag extraction\n",
    "tweets['hashtag'] = tweets['Text'].apply(lambda x: re.findall(r\"#(\\w+)\", x))\n",
    "tweets.head()"
   ]
  },
  {
   "cell_type": "code",
   "execution_count": null,
   "id": "4a0ee5fa",
   "metadata": {},
   "outputs": [],
   "source": [
    "##Text-Cleaning (URLs, Mentions, etc.)\n",
    "for i,v in enumerate(tweets['Text']):\n",
    "    tweets.loc[i,'Text'] = p.clean(v)"
   ]
  },
  {
   "cell_type": "code",
   "execution_count": null,
   "id": "42e78c64",
   "metadata": {},
   "outputs": [],
   "source": [
    "##define the data to remove numbers from tweets\n",
    "def preprocess_data(data):\n",
    "    data = data.astype(str).str.replace('\\d+', '')\n",
    "    lower_text = data.str.lower()\n",
    "    words = lower_text\n",
    "    return pd.DataFrame(words)"
   ]
  },
  {
   "cell_type": "code",
   "execution_count": null,
   "id": "accfa460",
   "metadata": {},
   "outputs": [],
   "source": [
    "##remove numbers\n",
    "pre_tweets = preprocess_data(tweets['Text'])\n",
    "tweets['Text'] = pre_tweets\n",
    "tweets.head()"
   ]
  },
  {
   "cell_type": "code",
   "execution_count": null,
   "id": "d10d6345",
   "metadata": {},
   "outputs": [],
   "source": [
    "##show output\n",
    "tweets.head()"
   ]
  },
  {
   "cell_type": "code",
   "execution_count": null,
   "id": "f072f33a",
   "metadata": {},
   "outputs": [],
   "source": [
    "##convert the output to excel\n",
    "tweets.to_excel('clean_tweets.xlsx',sheet_name='tweets',index=False)"
   ]
  }
 ],
 "metadata": {
  "kernelspec": {
   "display_name": "Python 3 (ipykernel)",
   "language": "python",
   "name": "python3"
  },
  "language_info": {
   "codemirror_mode": {
    "name": "ipython",
    "version": 3
   },
   "file_extension": ".py",
   "mimetype": "text/x-python",
   "name": "python",
   "nbconvert_exporter": "python",
   "pygments_lexer": "ipython3",
   "version": "3.9.12"
  }
 },
 "nbformat": 4,
 "nbformat_minor": 5
}

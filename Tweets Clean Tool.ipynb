{
 "cells": [
  {
   "cell_type": "code",
   "execution_count": null,
   "id": "eac68f95",
   "metadata": {
    "scrolled": true
   },
   "outputs": [],
   "source": [
    "## import library\n",
    "import pandas as pd\n",
    "import numpy as np\n",
    "import json\n",
    "from collections import Counter\n",
    "import matplotlib.pyplot as plt\n",
    "import re, string, unicodedata\n",
    "import nltk\n",
    "from nltk import word_tokenize, sent_tokenize, FreqDist\n",
    "from nltk.corpus import stopwords\n",
    "from nltk.stem import LancasterStemmer, WordNetLemmatizer\n",
    "nltk.download\n",
    "nltk.download('wordnet')\n",
    "nltk.download('stopwords')\n",
    "from nltk.tokenize import TweetTokenizer\n",
    "!pip install ekphrasis\n",
    "!pip install tweet-preprocessor\n",
    "import preprocessor as p"
   ]
  },
  {
   "cell_type": "code",
   "execution_count": null,
   "id": "488eac98",
   "metadata": {},
   "outputs": [],
   "source": [
    "##read the csv and define it\n",
    "pd.set_option('display.max_colwidth', None)\n",
    "data = pd.read_csv('tweets.csv')\n",
    "data.to_csv(r'new_text.csv', index = False)\n",
    "new_sample = pd.read_csv('new_text.csv')\n",
    "new_sample.head()\n",
    "tweets = new_sample[['Datetime', 'Tweet Id', 'Text', 'Username']]\n",
    "tweets.head()"
   ]
  },
  {
   "cell_type": "code",
   "execution_count": null,
   "id": "cd2ae0a8",
   "metadata": {},
   "outputs": [],
   "source": [
    "##hashtag extraction\n",
    "tweets['hashtag'] = tweets['Text'].apply(lambda x: re.findall(r\"#(\\w+)\", x))\n",
    "tweets.head()"
   ]
  },
  {
   "cell_type": "code",
   "execution_count": null,
   "id": "8357cd60",
   "metadata": {
    "scrolled": true
   },
   "outputs": [],
   "source": [
    "##Text-Cleaning (URLs, Mentions, etc.)\n",
    "for i,v in enumerate(tweets['Text']):\n",
    "    tweets.loc[i,'Text'] = p.clean(v)"
   ]
  },
  {
   "cell_type": "code",
   "execution_count": null,
   "id": "ab5fc9d9",
   "metadata": {},
   "outputs": [],
   "source": [
    "##show output\n",
    "tweets.head()"
   ]
  },
  {
   "cell_type": "code",
   "execution_count": null,
   "id": "e1931857",
   "metadata": {},
   "outputs": [],
   "source": [
    "##define the data to remove numbers from tweets\n",
    "def preprocess_data(data):\n",
    "    data = data.astype(str).str.replace('\\d+', '')\n",
    "    lower_text = data.str.lower()\n",
    "    words = lower_text\n",
    "    return pd.DataFrame(words)"
   ]
  },
  {
   "cell_type": "code",
   "execution_count": null,
   "id": "48a98d0e",
   "metadata": {},
   "outputs": [],
   "source": [
    "#remove numbers\n",
    "pre_tweets = preprocess_data(tweets['Text'])\n",
    "tweets['Text'] = pre_tweets\n",
    "tweets.head()"
   ]
  },
  {
   "cell_type": "code",
   "execution_count": null,
   "id": "6abcb7a7",
   "metadata": {},
   "outputs": [],
   "source": [
    "#convert the output to excel\n",
    "tweets.to_excel('clean_tweets.xlsx',sheet_name='tweets',index=False) "
   ]
  }
 ],
 "metadata": {
  "kernelspec": {
   "display_name": "Python 3 (ipykernel)",
   "language": "python",
   "name": "python3"
  },
  "language_info": {
   "codemirror_mode": {
    "name": "ipython",
    "version": 3
   },
   "file_extension": ".py",
   "mimetype": "text/x-python",
   "name": "python",
   "nbconvert_exporter": "python",
   "pygments_lexer": "ipython3",
   "version": "3.9.12"
  }
 },
 "nbformat": 4,
 "nbformat_minor": 5
}
